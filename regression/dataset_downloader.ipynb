{
 "cells": [
  {
   "cell_type": "code",
   "execution_count": 2,
   "id": "fd08343d",
   "metadata": {},
   "outputs": [
    {
     "name": "stderr",
     "output_type": "stream",
     "text": [
      "Downloading...\n",
      "100%|██████████| 54.4M/54.4M [00:12<00:00, 4.20MiB/s]\n",
      "Loading...\n",
      "Done!\n",
      "/home/gourab/anaconda3/envs/dta/lib/python3.10/site-packages/tdc/multi_pred/dti.py:84: FutureWarning: The provided callable <function mean at 0x7651d84b0430> is currently using SeriesGroupBy.mean. In a future version of pandas, the provided callable will be used directly. To keep current behavior pass the string \"mean\" instead.\n",
      "  .Y.agg(np.mean)\n",
      "The original data has been updated!\n"
     ]
    },
    {
     "data": {
      "text/html": [
       "<div>\n",
       "<style scoped>\n",
       "    .dataframe tbody tr th:only-of-type {\n",
       "        vertical-align: middle;\n",
       "    }\n",
       "\n",
       "    .dataframe tbody tr th {\n",
       "        vertical-align: top;\n",
       "    }\n",
       "\n",
       "    .dataframe thead th {\n",
       "        text-align: right;\n",
       "    }\n",
       "</style>\n",
       "<table border=\"1\" class=\"dataframe\">\n",
       "  <thead>\n",
       "    <tr style=\"text-align: right;\">\n",
       "      <th></th>\n",
       "      <th>Drug_ID</th>\n",
       "      <th>Drug</th>\n",
       "      <th>Target_ID</th>\n",
       "      <th>Target</th>\n",
       "      <th>Y</th>\n",
       "    </tr>\n",
       "  </thead>\n",
       "  <tbody>\n",
       "    <tr>\n",
       "      <th>0</th>\n",
       "      <td>51.0</td>\n",
       "      <td>O=C(O)CCC(=O)C(=O)O</td>\n",
       "      <td>Q9GZT9</td>\n",
       "      <td>MANDSGGPGGPSPSERDRQYCELCGKMENLLRCSRCRSSFYCCKEH...</td>\n",
       "      <td>1450.0</td>\n",
       "    </tr>\n",
       "    <tr>\n",
       "      <th>1</th>\n",
       "      <td>187.0</td>\n",
       "      <td>CC(=O)OCC[N+](C)(C)C</td>\n",
       "      <td>P11229</td>\n",
       "      <td>MNTSAPPAVSPNITVLAPGKGPWQVAFIGITTGLLSLATVTGNLLV...</td>\n",
       "      <td>17378.0</td>\n",
       "    </tr>\n",
       "    <tr>\n",
       "      <th>2</th>\n",
       "      <td>187.0</td>\n",
       "      <td>CC(=O)OCC[N+](C)(C)C</td>\n",
       "      <td>P58154</td>\n",
       "      <td>MRRNIFCLACLWIVQACLSLDRADILYNIRQTSRPDVIPTQRDRPV...</td>\n",
       "      <td>2154.0</td>\n",
       "    </tr>\n",
       "    <tr>\n",
       "      <th>3</th>\n",
       "      <td>237.0</td>\n",
       "      <td>CCN(CC)CCCC(C)Nc1c2ccc(Cl)cc2nc2ccc(OC)cc12</td>\n",
       "      <td>P02752</td>\n",
       "      <td>MLRFAITLFAVITSSTCQQYGCLEGDTHKANPSPEPNMHECTLYSE...</td>\n",
       "      <td>264.0</td>\n",
       "    </tr>\n",
       "    <tr>\n",
       "      <th>4</th>\n",
       "      <td>242.0</td>\n",
       "      <td>O=C([O-])c1ccccc1</td>\n",
       "      <td>P14920</td>\n",
       "      <td>MRVVVIGAGVIGLSTALCIHERYHSVLQPLDIKVYADRFTPLTTTD...</td>\n",
       "      <td>4500.0</td>\n",
       "    </tr>\n",
       "    <tr>\n",
       "      <th>...</th>\n",
       "      <td>...</td>\n",
       "      <td>...</td>\n",
       "      <td>...</td>\n",
       "      <td>...</td>\n",
       "      <td>...</td>\n",
       "    </tr>\n",
       "    <tr>\n",
       "      <th>42231</th>\n",
       "      <td>138805907.0</td>\n",
       "      <td>COc1nc2ccc([C@@](O)(c3ccc(C(F)(F)F)nc3)c3cncn3...</td>\n",
       "      <td>P51449</td>\n",
       "      <td>MDRAPQRQHRASRELLAAKKTHTSQIEVIPCKICGDKSSGIHYGVI...</td>\n",
       "      <td>3.1</td>\n",
       "    </tr>\n",
       "    <tr>\n",
       "      <th>42232</th>\n",
       "      <td>138805908.0</td>\n",
       "      <td>COc1nc2ccc([C@](O)(c3ccnc(C(F)(F)F)c3)c3cncn3C...</td>\n",
       "      <td>P51449</td>\n",
       "      <td>MDRAPQRQHRASRELLAAKKTHTSQIEVIPCKICGDKSSGIHYGVI...</td>\n",
       "      <td>9300.0</td>\n",
       "    </tr>\n",
       "    <tr>\n",
       "      <th>42233</th>\n",
       "      <td>138805909.0</td>\n",
       "      <td>COc1nc2ccc([C@@](O)(c3ccnc(C(F)(F)F)c3)c3cncn3...</td>\n",
       "      <td>P51449</td>\n",
       "      <td>MDRAPQRQHRASRELLAAKKTHTSQIEVIPCKICGDKSSGIHYGVI...</td>\n",
       "      <td>3.5</td>\n",
       "    </tr>\n",
       "    <tr>\n",
       "      <th>42234</th>\n",
       "      <td>138805910.0</td>\n",
       "      <td>COc1nc2ccc([C@](O)(c3ccc(Cl)cc3)c3cncn3C)cc2c(...</td>\n",
       "      <td>P51449</td>\n",
       "      <td>MDRAPQRQHRASRELLAAKKTHTSQIEVIPCKICGDKSSGIHYGVI...</td>\n",
       "      <td>850.0</td>\n",
       "    </tr>\n",
       "    <tr>\n",
       "      <th>42235</th>\n",
       "      <td>138805911.0</td>\n",
       "      <td>COc1nc2ccc([C@@](O)(c3ccc(Cl)cc3)c3cncn3C)cc2c...</td>\n",
       "      <td>P51449</td>\n",
       "      <td>MDRAPQRQHRASRELLAAKKTHTSQIEVIPCKICGDKSSGIHYGVI...</td>\n",
       "      <td>13.0</td>\n",
       "    </tr>\n",
       "  </tbody>\n",
       "</table>\n",
       "<p>42236 rows × 5 columns</p>\n",
       "</div>"
      ],
      "text/plain": [
       "           Drug_ID  ...        Y\n",
       "0             51.0  ...   1450.0\n",
       "1            187.0  ...  17378.0\n",
       "2            187.0  ...   2154.0\n",
       "3            237.0  ...    264.0\n",
       "4            242.0  ...   4500.0\n",
       "...            ...  ...      ...\n",
       "42231  138805907.0  ...      3.1\n",
       "42232  138805908.0  ...   9300.0\n",
       "42233  138805909.0  ...      3.5\n",
       "42234  138805910.0  ...    850.0\n",
       "42235  138805911.0  ...     13.0\n",
       "\n",
       "[42236 rows x 5 columns]"
      ]
     },
     "execution_count": 2,
     "metadata": {},
     "output_type": "execute_result"
    }
   ],
   "source": [
    "from tdc.multi_pred import DTI\n",
    "data = DTI(name = 'BindingDB_Kd', path=\"./data/raw_data\")\n",
    "data.harmonize_affinities(mode = 'mean')"
   ]
  },
  {
   "cell_type": "code",
   "execution_count": 4,
   "id": "f6b07456",
   "metadata": {},
   "outputs": [
    {
     "data": {
      "text/plain": [
       "<tdc.multi_pred.dti.DTI at 0x76517191f6d0>"
      ]
     },
     "execution_count": 4,
     "metadata": {},
     "output_type": "execute_result"
    }
   ],
   "source": [
    "data"
   ]
  },
  {
   "cell_type": "code",
   "execution_count": null,
   "id": "25789cda",
   "metadata": {},
   "outputs": [
    {
     "ename": "TypeError",
     "evalue": "'DTI' object is not subscriptable",
     "output_type": "error",
     "traceback": [
      "\u001b[0;31m---------------------------------------------------------------------------\u001b[0m",
      "\u001b[0;31mTypeError\u001b[0m                                 Traceback (most recent call last)",
      "Cell \u001b[0;32mIn[3], line 1\u001b[0m\n\u001b[0;32m----> 1\u001b[0m \u001b[38;5;28mlen\u001b[39m(\u001b[43mdata\u001b[49m\u001b[43m[\u001b[49m\u001b[38;5;124;43m'\u001b[39;49m\u001b[38;5;124;43mTarget\u001b[39;49m\u001b[38;5;124;43m'\u001b[39;49m\u001b[43m]\u001b[49m\u001b[38;5;241m.\u001b[39munique())\n",
      "\u001b[0;31mTypeError\u001b[0m: 'DTI' object is not subscriptable"
     ]
    }
   ],
   "source": []
  }
 ],
 "metadata": {
  "kernelspec": {
   "display_name": "dta",
   "language": "python",
   "name": "python3"
  },
  "language_info": {
   "codemirror_mode": {
    "name": "ipython",
    "version": 3
   },
   "file_extension": ".py",
   "mimetype": "text/x-python",
   "name": "python",
   "nbconvert_exporter": "python",
   "pygments_lexer": "ipython3",
   "version": "3.10.4"
  }
 },
 "nbformat": 4,
 "nbformat_minor": 5
}
