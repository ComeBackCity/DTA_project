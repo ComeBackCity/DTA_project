{
 "cells": [
  {
   "cell_type": "code",
   "execution_count": 5,
   "metadata": {},
   "outputs": [
    {
     "data": {
      "text/html": [
       "<pre style=\"white-space:pre;overflow-x:auto;line-height:normal;font-family:Menlo,'DejaVu Sans Mono',consolas,'Courier New',monospace\"><span style=\"color: #7fbfbf; text-decoration-color: #7fbfbf\">[06/19/24 11:53:43] </span><span style=\"color: #000080; text-decoration-color: #000080\">INFO    </span> Downloaded AlphaFold PDB file for: O00141                                 <a href=\"file:///home/gourab/anaconda3/envs/dta/lib/python3.10/site-packages/graphein/protein/utils.py\" target=\"_blank\"><span style=\"color: #7f7f7f; text-decoration-color: #7f7f7f\">utils.py</span></a><span style=\"color: #7f7f7f; text-decoration-color: #7f7f7f\">:</span><a href=\"file:///home/gourab/anaconda3/envs/dta/lib/python3.10/site-packages/graphein/protein/utils.py#349\" target=\"_blank\"><span style=\"color: #7f7f7f; text-decoration-color: #7f7f7f\">349</span></a>\n",
       "</pre>\n"
      ],
      "text/plain": [
       "\u001b[2;36m[06/19/24 11:53:43]\u001b[0m\u001b[2;36m \u001b[0m\u001b[34mINFO    \u001b[0m Downloaded AlphaFold PDB file for: O00141                                 \u001b]8;id=262932;file:///home/gourab/anaconda3/envs/dta/lib/python3.10/site-packages/graphein/protein/utils.py\u001b\\\u001b[2mutils.py\u001b[0m\u001b]8;;\u001b\\\u001b[2m:\u001b[0m\u001b]8;id=259158;file:///home/gourab/anaconda3/envs/dta/lib/python3.10/site-packages/graphein/protein/utils.py#349\u001b\\\u001b[2m349\u001b[0m\u001b]8;;\u001b\\\n"
      ]
     },
     "metadata": {},
     "output_type": "display_data"
    },
    {
     "data": {
      "text/plain": [
       "('/home/gourab/Desktop/Projects/DTA/DTA/Code/MGraphDTA-dev/af_graphein/O00141.pdb',\n",
       " '/home/gourab/Desktop/Projects/DTA/DTA/Code/MGraphDTA-dev/af_graphein/O00141.json')"
      ]
     },
     "execution_count": 5,
     "metadata": {},
     "output_type": "execute_result"
    }
   ],
   "source": [
    "from graphein.protein.utils import download_alphafold_structure\n",
    "\n",
    "# Download the PDB file for an exmaple protein (UniProt: Q8W3K0) with the aligned score\n",
    "protein_path = download_alphafold_structure(\"O00141\", out_dir = \"./af_graphein/\", aligned_score=False)\n",
    "protein_path"
   ]
  }
 ],
 "metadata": {
  "kernelspec": {
   "display_name": "dta",
   "language": "python",
   "name": "python3"
  },
  "language_info": {
   "codemirror_mode": {
    "name": "ipython",
    "version": 3
   },
   "file_extension": ".py",
   "mimetype": "text/x-python",
   "name": "python",
   "nbconvert_exporter": "python",
   "pygments_lexer": "ipython3",
   "version": "3.10.4"
  },
  "orig_nbformat": 4
 },
 "nbformat": 4,
 "nbformat_minor": 2
}
