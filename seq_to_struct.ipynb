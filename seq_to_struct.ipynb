{
 "cells": [
  {
   "cell_type": "code",
   "execution_count": 1,
   "metadata": {},
   "outputs": [],
   "source": [
    "from Bio.Blast import NCBIWWW, NCBIXML\n",
    "from Bio import SeqIO\n",
    "import requests\n",
    "import os\n",
    "import xml.etree.ElementTree as ET\n",
    "\n",
    "def search_sequence(sequence, num_results=5):\n",
    "    \"\"\"Search NCBI Protein Blast for the given sequence and return UniProt IDs of best matches.\"\"\"\n",
    "    result_handle = NCBIWWW.qblast(\"blastp\", \"refseq_protein\", sequence)\n",
    "    blast_records = NCBIXML.parse(result_handle)\n",
    "    blast_records = list(blast_records)\n",
    "    result_handle.close()\n",
    "\n",
    "    if not blast_records:\n",
    "        print(f\"No results found for sequence: {sequence}\")\n",
    "        return []\n",
    "\n",
    "    best_hits = blast_records[0].alignments[:num_results]\n",
    "    uniprot_ids = []\n",
    "\n",
    "    for hit in best_hits:\n",
    "        for hsp in hit.hsps:\n",
    "            title = hit.title\n",
    "            uniprot_id = title.split(\"|\")[1]\n",
    "            uniprot_ids.append(uniprot_id)\n",
    "    \n",
    "    return uniprot_ids\n",
    "\n",
    "def get_pdb_ids_from_uniprot(uniprot_id):\n",
    "    \"\"\"Retrieve PDB IDs associated with a given UniProt ID using the UniProt API.\"\"\"\n",
    "    url = f\"https://www.uniprot.org/uniprot/{uniprot_id}.xml\"\n",
    "    response = requests.get(url)\n",
    "    if response.status_code != 200:\n",
    "        print(f\"Failed to retrieve data for UniProt ID: {uniprot_id}\")\n",
    "        return []\n",
    "\n",
    "    pdb_ids = []\n",
    "    xml_content = response.text\n",
    "    root = ET.fromstring(xml_content)\n",
    "    for dbReference in root.findall(\".//{http://uniprot.org/uniprot}dbReference\"):\n",
    "        if dbReference.attrib.get('type') == 'PDB':\n",
    "            pdb_id = dbReference.attrib.get('id')\n",
    "            pdb_ids.append(pdb_id)\n",
    "    \n",
    "    return pdb_ids\n",
    "\n",
    "def download_pdb_file(pdb_id, output_dir):\n",
    "    \"\"\"Download a PDB file given a PDB ID.\"\"\"\n",
    "    url = f\"https://files.rcsb.org/download/{pdb_id}.pdb\"\n",
    "    response = requests.get(url)\n",
    "    if response.status_code == 200:\n",
    "        output_path = os.path.join(output_dir, f\"{pdb_id}.pdb\")\n",
    "        with open(output_path, 'wb') as file:\n",
    "            file.write(response.content)\n",
    "        print(f\"Downloaded PDB file: {output_path}\")\n",
    "    else:\n",
    "        print(f\"Failed to download PDB file for PDB ID: {pdb_id}\")"
   ]
  },
  {
   "cell_type": "code",
   "execution_count": 3,
   "metadata": {},
   "outputs": [],
   "source": [
    "sequence_file = \"regression/data/fastas/davis/sequence_358.fasta\"  # Replace with your input sequence file\n",
    "output_dir = \"pdb_files\"  # Directory to save downloaded PDB files\n",
    "\n",
    "# Load sequence from FASTA file\n",
    "sequence = None\n",
    "with open(sequence_file, \"r\") as file:\n",
    "    record = SeqIO.read(file, \"fasta\")\n",
    "    sequence = str(record.seq)\n",
    "\n",
    "if not sequence:\n",
    "    print(\"Failed to read sequence from file.\")"
   ]
  },
  {
   "cell_type": "code",
   "execution_count": 4,
   "metadata": {},
   "outputs": [],
   "source": [
    "# Step 1: Search for UniProt IDs using NCBI Protein Blast\n",
    "uniprot_ids = search_sequence(sequence)\n",
    "if not uniprot_ids:\n",
    "    print(\"No UniProt IDs found for the sequence.\")"
   ]
  },
  {
   "cell_type": "code",
   "execution_count": 5,
   "metadata": {},
   "outputs": [],
   "source": [
    "# Step 2: Retrieve PDB files for each UniProt ID\n",
    "if not os.path.exists(output_dir):\n",
    "    os.makedirs(output_dir)"
   ]
  },
  {
   "cell_type": "code",
   "execution_count": 6,
   "metadata": {},
   "outputs": [
    {
     "data": {
      "text/plain": [
       "['XP_002831615.3',\n",
       " 'XP_034806557.2',\n",
       " 'XP_049499709.1',\n",
       " 'XP_032114390.1',\n",
       " 'XP_039331268.1']"
      ]
     },
     "execution_count": 6,
     "metadata": {},
     "output_type": "execute_result"
    }
   ],
   "source": [
    "uniprot_ids"
   ]
  },
  {
   "cell_type": "code",
   "execution_count": 7,
   "metadata": {},
   "outputs": [
    {
     "name": "stdout",
     "output_type": "stream",
     "text": [
      "Failed to retrieve data for UniProt ID: XP_002831615.3\n",
      "No PDB IDs found for UniProt ID: XP_002831615.3\n",
      "Failed to retrieve data for UniProt ID: XP_034806557.2\n",
      "No PDB IDs found for UniProt ID: XP_034806557.2\n",
      "Failed to retrieve data for UniProt ID: XP_049499709.1\n",
      "No PDB IDs found for UniProt ID: XP_049499709.1\n",
      "Failed to retrieve data for UniProt ID: XP_032114390.1\n",
      "No PDB IDs found for UniProt ID: XP_032114390.1\n",
      "Failed to retrieve data for UniProt ID: XP_039331268.1\n",
      "No PDB IDs found for UniProt ID: XP_039331268.1\n"
     ]
    }
   ],
   "source": [
    "for uniprot_id in uniprot_ids:\n",
    "    pdb_ids = get_pdb_ids_from_uniprot(uniprot_id)\n",
    "    if not pdb_ids:\n",
    "        print(f\"No PDB IDs found for UniProt ID: {uniprot_id}\")\n",
    "        continue\n",
    "    \n",
    "    for pdb_id in pdb_ids:\n",
    "        download_pdb_file(pdb_id, output_dir)"
   ]
  }
 ],
 "metadata": {
  "kernelspec": {
   "display_name": "dta",
   "language": "python",
   "name": "python3"
  },
  "language_info": {
   "codemirror_mode": {
    "name": "ipython",
    "version": 3
   },
   "file_extension": ".py",
   "mimetype": "text/x-python",
   "name": "python",
   "nbconvert_exporter": "python",
   "pygments_lexer": "ipython3",
   "version": "3.10.4"
  },
  "orig_nbformat": 4
 },
 "nbformat": 4,
 "nbformat_minor": 2
}
